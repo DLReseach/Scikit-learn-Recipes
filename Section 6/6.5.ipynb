{
 "cells": [
  {
   "cell_type": "code",
   "execution_count": null,
   "metadata": {},
   "outputs": [],
   "source": [
    "import numpy as np  \n",
    "import matplotlib.pyplot as plt  \n",
    "import pandas as pd  \n",
    "from sklearn.preprocessing import Binarizer, LabelEncoder, OneHotEncoder, MinMaxScaler\n",
    "from sklearn.cluster import KMeans  \n",
    "import seaborn as sns\n",
    "from sklearn.mixture import GaussianMixture as GMM"
   ]
  },
  {
   "cell_type": "markdown",
   "metadata": {},
   "source": [
    "## Gaussian Mixture Modeling\n",
    "Overcomes the limitations of k-means clustering by making soft assignments of the data points. A Gaussian mixture will almost always fit better than k-means: the clustering will mimic the data cloud better and with a smaller k. k-means is useful primarily because it’s very fast, so might be more easily fit to very large data sets with largish dimensions. "
   ]
  },
  {
   "cell_type": "code",
   "execution_count": null,
   "metadata": {},
   "outputs": [],
   "source": [
    "data = pd.read_csv('Wine2.csv')"
   ]
  },
  {
   "cell_type": "code",
   "execution_count": null,
   "metadata": {},
   "outputs": [],
   "source": [
    "## scale the data\n",
    "\n",
    "mms = MinMaxScaler()\n",
    "data.loc[:, data.columns != 'class'] = mms.fit_transform(data.loc[:, data.columns != 'class'])"
   ]
  },
  {
   "cell_type": "code",
   "execution_count": null,
   "metadata": {},
   "outputs": [],
   "source": [
    "kmeans = KMeans(n_clusters= 3)\n",
    "kmeans.fit(data.drop('class',axis=1))"
   ]
  },
  {
   "cell_type": "code",
   "execution_count": null,
   "metadata": {},
   "outputs": [],
   "source": [
    "# Create a colormap\n",
    "plt.scatter(data['Alcohol'], data['Malic_acid'], c= data['class'], s=40)\n",
    "plt.title('Actual Classification')\n",
    "plt.show()"
   ]
  },
  {
   "cell_type": "code",
   "execution_count": null,
   "metadata": {},
   "outputs": [],
   "source": [
    "gmm = GMM(n_components=3).fit(data.drop('class',axis=1))\n",
    "labels = gmm.predict(data.drop('class',axis=1))\n",
    "plt.scatter(data['Alcohol'], data['Malic_acid'], c=labels, s=40)\n",
    "plt.title('GMM Classification')\n",
    "plt.show()"
   ]
  },
  {
   "cell_type": "code",
   "execution_count": null,
   "metadata": {},
   "outputs": [],
   "source": [
    "pd.crosstab(data['class'], labels, rownames=['Actual Result'], colnames=['Predicted Result'])"
   ]
  },
  {
   "cell_type": "code",
   "execution_count": null,
   "metadata": {},
   "outputs": [],
   "source": []
  }
 ],
 "metadata": {
  "kernelspec": {
   "display_name": "Python 3",
   "language": "python",
   "name": "python3"
  },
  "language_info": {
   "codemirror_mode": {
    "name": "ipython",
    "version": 3
   },
   "file_extension": ".py",
   "mimetype": "text/x-python",
   "name": "python",
   "nbconvert_exporter": "python",
   "pygments_lexer": "ipython3",
   "version": "3.7.3"
  }
 },
 "nbformat": 4,
 "nbformat_minor": 2
}
