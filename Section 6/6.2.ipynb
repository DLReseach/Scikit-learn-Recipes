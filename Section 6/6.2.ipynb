{
 "cells": [
  {
   "cell_type": "code",
   "execution_count": null,
   "metadata": {},
   "outputs": [],
   "source": [
    "import numpy as np  \n",
    "import matplotlib.pyplot as plt  \n",
    "import pandas as pd  \n",
    "from sklearn.preprocessing import Binarizer, LabelEncoder, OneHotEncoder, MinMaxScaler\n",
    "from sklearn.metrics import classification_report, confusion_matrix, roc_curve, auc\n",
    "from sklearn.metrics import accuracy_score\n",
    "from sklearn.model_selection import RandomizedSearchCV\n",
    "from scipy.stats import randint\n",
    "from sklearn.cluster import KMeans  \n",
    "from sklearn.metrics import silhouette_score\n",
    "import seaborn as sns"
   ]
  },
  {
   "cell_type": "code",
   "execution_count": null,
   "metadata": {},
   "outputs": [],
   "source": [
    "data = pd.read_csv('Wine2.csv')"
   ]
  },
  {
   "cell_type": "code",
   "execution_count": null,
   "metadata": {},
   "outputs": [],
   "source": [
    "## scale the data\n",
    "\n",
    "mms = MinMaxScaler()\n",
    "data.loc[:, data.columns != 'class'] = mms.fit_transform(data.loc[:, data.columns != 'class'])"
   ]
  },
  {
   "cell_type": "code",
   "execution_count": null,
   "metadata": {},
   "outputs": [],
   "source": [
    "kmeans = KMeans(n_clusters= 3)\n",
    "model = kmeans.fit(data.drop('class',axis=1))\n",
    "y_kmeans = kmeans.predict(data.drop('class',axis=1))\n",
    "data[\"cluster\"] = y_kmeans"
   ]
  },
  {
   "cell_type": "code",
   "execution_count": null,
   "metadata": {},
   "outputs": [],
   "source": [
    "cols = list(data.columns)\n",
    "cols.remove(\"class\")\n",
    "\n",
    "sns.pairplot( data[ cols ], hue=\"cluster\")"
   ]
  },
  {
   "cell_type": "code",
   "execution_count": null,
   "metadata": {},
   "outputs": [],
   "source": [
    "plt.show()"
   ]
  },
  {
   "cell_type": "code",
   "execution_count": null,
   "metadata": {},
   "outputs": [],
   "source": [
    "data.columns"
   ]
  },
  {
   "cell_type": "code",
   "execution_count": null,
   "metadata": {},
   "outputs": [],
   "source": [
    "best_cols = [\"Alcohol\", \"Malic_acid\", \"Total_phenols\",\"Ash\", \"Alcalinity_of_ash\", \"Flavanoids\"]\n",
    "kmeans = KMeans(n_clusters=3) \n",
    "best_vals = data[best_cols].iloc[ :, 1:].values\n",
    "y_pred = kmeans.fit_predict( best_vals )\n",
    "\n",
    "data[\"cluster\"] = y_pred\n",
    "best_cols.append(\"cluster\")\n",
    "sns.pairplot( data[ best_cols ], hue=\"cluster\")\n",
    "plt.show()"
   ]
  }
 ],
 "metadata": {
  "kernelspec": {
   "display_name": "Python 3",
   "language": "python",
   "name": "python3"
  },
  "language_info": {
   "codemirror_mode": {
    "name": "ipython",
    "version": 3
   },
   "file_extension": ".py",
   "mimetype": "text/x-python",
   "name": "python",
   "nbconvert_exporter": "python",
   "pygments_lexer": "ipython3",
   "version": "3.7.3"
  }
 },
 "nbformat": 4,
 "nbformat_minor": 2
}
