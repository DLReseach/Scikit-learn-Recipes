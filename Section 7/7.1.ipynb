{
 "cells": [
  {
   "cell_type": "code",
   "execution_count": 2,
   "metadata": {
    "collapsed": true
   },
   "outputs": [],
   "source": [
    "import pandas as pd\n",
    "import seaborn as sns\n",
    "import matplotlib.pyplot as plt\n",
    "from sklearn.feature_selection import SelectKBest\n",
    "from sklearn.feature_selection import chi2 # chi square filter method"
   ]
  },
  {
   "cell_type": "markdown",
   "metadata": {},
   "source": [
    "## Feature selection"
   ]
  },
  {
   "cell_type": "markdown",
   "metadata": {},
   "source": [
    "## Filter methods\n",
    "- feature selection independent of the model used\n",
    "- based on general methods like correlation\n",
    "- find the best subset of variables\n",
    "- helps reduce overfitting\n",
    "\n",
    "## Types of filter methods\n",
    "- information gain\n",
    "- chi-square test\n",
    "- fisher score\n",
    "- correlation coefficient\n",
    "- variance threshold\n",
    "\n",
    "## Wrapper methods\n",
    "- Wrapper methods evaluate subsets of variables which allows, unlike filter approaches, to detect the possible interactions between variables. \n",
    "The two main disadvantages of these methods are :\n",
    "\n",
    "1. The increasing overfitting risk when the number of observations is insufficient.\n",
    "2. The significant computation time when the number of variables is large.\n",
    "\n",
    "source: https://en.wikipedia.org/wiki/Feature_selection#Filter_method\n",
    "\n",
    "## Types of wrapper methods\n",
    "- recursive feature elimination\n",
    "- sequential feature selection algorithms\n",
    "- genetic algorithms\n",
    "\n",
    "## Feature importance:\n",
    "- use decision tree classifiers to find the relative importance of the features\n",
    "- These importance values can be used to inform a feature selection process."
   ]
  },
  {
   "cell_type": "code",
   "execution_count": null,
   "metadata": {
    "collapsed": true
   },
   "outputs": [],
   "source": []
  }
 ],
 "metadata": {
  "kernelspec": {
   "display_name": "Python 3",
   "language": "python",
   "name": "python3"
  },
  "language_info": {
   "codemirror_mode": {
    "name": "ipython",
    "version": 3
   },
   "file_extension": ".py",
   "mimetype": "text/x-python",
   "name": "python",
   "nbconvert_exporter": "python",
   "pygments_lexer": "ipython3",
   "version": "3.7.3"
  }
 },
 "nbformat": 4,
 "nbformat_minor": 2
}
